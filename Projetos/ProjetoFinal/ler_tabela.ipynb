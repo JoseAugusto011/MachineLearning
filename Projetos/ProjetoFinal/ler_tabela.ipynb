{
 "cells": [
  {
   "cell_type": "code",
   "execution_count": 25,
   "metadata": {},
   "outputs": [],
   "source": [
    "import numpy as np\n",
    "import os\n",
    "import pandas as pd"
   ]
  },
  {
   "cell_type": "code",
   "execution_count": 26,
   "metadata": {},
   "outputs": [],
   "source": [
    "def ler_tabela(nome,quantidade=20):\n",
    "    with open(nome, \"r\") as tabela:\n",
    "        \n",
    "        tudo=[]\n",
    "        tudo2 =[]\n",
    "        num = 1\n",
    "        ordem = 1\n",
    "        resposta=[]\n",
    "\n",
    "        for linha in tabela.readlines():\n",
    "            li = linha.split(\"\\t\")\n",
    "            if num <= quantidade:\n",
    "                tudo.append(li)\n",
    "            else:\n",
    "                tudo2.append(li)\n",
    "            \n",
    "            if num == quantidade*2:\n",
    "                tudo = np.array(tudo)\n",
    "                tudo2 = np.array(tudo2)\n",
    "\n",
    "                print(ordem)\n",
    "                ordem+=1\n",
    "\n",
    "                for x in range(quantidade):\n",
    "                    tudo[x,2] = (int(tudo2[tudo2[:,1]==tudo[x,1],0])-1)//5\n",
    "\n",
    "                resposta.append(tudo[:,2:11])\n",
    "\n",
    "                tudo = []\n",
    "                tudo2= []\n",
    "                num = 0\n",
    "\n",
    "                \n",
    "            \n",
    "            num+=1\n",
    "        \n",
    "        return(resposta)\n",
    "\n",
    " "
   ]
  },
  {
   "cell_type": "code",
   "execution_count": 27,
   "metadata": {},
   "outputs": [
    {
     "name": "stdout",
     "output_type": "stream",
     "text": [
      "--> Treino Arquivo: tabela_bundesliga_18.txt\n",
      "1\n"
     ]
    },
    {
     "name": "stderr",
     "output_type": "stream",
     "text": [
      "C:\\Users\\Usuário\\AppData\\Local\\Temp\\ipykernel_3820\\2521501067.py:19: VisibleDeprecationWarning: Creating an ndarray from ragged nested sequences (which is a list-or-tuple of lists-or-tuples-or ndarrays with different lengths or shapes) is deprecated. If you meant to do this, you must specify 'dtype=object' when creating the ndarray.\n",
      "  tudo2 = np.array(tudo2)\n"
     ]
    },
    {
     "ename": "IndexError",
     "evalue": "too many indices for array: array is 1-dimensional, but 2 were indexed",
     "output_type": "error",
     "traceback": [
      "\u001b[1;31m---------------------------------------------------------------------------\u001b[0m",
      "\u001b[1;31mIndexError\u001b[0m                                Traceback (most recent call last)",
      "\u001b[1;32mc:\\Users\\Usuário\\Downloads\\UFPB\\2023.2\\MachineLearning\\ProjetoFinal\\ler_tabela.ipynb Cell 3\u001b[0m in \u001b[0;36m<cell line: 4>\u001b[1;34m()\u001b[0m\n\u001b[0;32m     <a href='vscode-notebook-cell:/c%3A/Users/Usu%C3%A1rio/Downloads/UFPB/2023.2/MachineLearning/ProjetoFinal/ler_tabela.ipynb#W2sZmlsZQ%3D%3D?line=20'>21</a>\u001b[0m \u001b[39melse\u001b[39;00m:\n\u001b[0;32m     <a href='vscode-notebook-cell:/c%3A/Users/Usu%C3%A1rio/Downloads/UFPB/2023.2/MachineLearning/ProjetoFinal/ler_tabela.ipynb#W2sZmlsZQ%3D%3D?line=21'>22</a>\u001b[0m     \u001b[39mprint\u001b[39m(\u001b[39mf\u001b[39m\u001b[39m\"\u001b[39m\u001b[39m--> Treino Arquivo: \u001b[39m\u001b[39m{\u001b[39;00marquivo\u001b[39m}\u001b[39;00m\u001b[39m\"\u001b[39m)\n\u001b[1;32m---> <a href='vscode-notebook-cell:/c%3A/Users/Usu%C3%A1rio/Downloads/UFPB/2023.2/MachineLearning/ProjetoFinal/ler_tabela.ipynb#W2sZmlsZQ%3D%3D?line=22'>23</a>\u001b[0m     treino\u001b[39m.\u001b[39mappend(ler_tabela(\u001b[39mf\u001b[39;49m\u001b[39m\"\u001b[39;49m\u001b[39mdados/\u001b[39;49m\u001b[39m{\u001b[39;49;00marquivo\u001b[39m}\u001b[39;49;00m\u001b[39m\"\u001b[39;49m))\n",
      "\u001b[1;32mc:\\Users\\Usuário\\Downloads\\UFPB\\2023.2\\MachineLearning\\ProjetoFinal\\ler_tabela.ipynb Cell 3\u001b[0m in \u001b[0;36mler_tabela\u001b[1;34m(nome, quantidade)\u001b[0m\n\u001b[0;32m     <a href='vscode-notebook-cell:/c%3A/Users/Usu%C3%A1rio/Downloads/UFPB/2023.2/MachineLearning/ProjetoFinal/ler_tabela.ipynb#W2sZmlsZQ%3D%3D?line=21'>22</a>\u001b[0m ordem\u001b[39m+\u001b[39m\u001b[39m=\u001b[39m\u001b[39m1\u001b[39m\n\u001b[0;32m     <a href='vscode-notebook-cell:/c%3A/Users/Usu%C3%A1rio/Downloads/UFPB/2023.2/MachineLearning/ProjetoFinal/ler_tabela.ipynb#W2sZmlsZQ%3D%3D?line=23'>24</a>\u001b[0m \u001b[39mfor\u001b[39;00m x \u001b[39min\u001b[39;00m \u001b[39mrange\u001b[39m(quantidade):\n\u001b[1;32m---> <a href='vscode-notebook-cell:/c%3A/Users/Usu%C3%A1rio/Downloads/UFPB/2023.2/MachineLearning/ProjetoFinal/ler_tabela.ipynb#W2sZmlsZQ%3D%3D?line=24'>25</a>\u001b[0m     tudo[x,\u001b[39m2\u001b[39m] \u001b[39m=\u001b[39m (\u001b[39mint\u001b[39m(tudo2[tudo2[:,\u001b[39m1\u001b[39;49m]\u001b[39m==\u001b[39mtudo[x,\u001b[39m1\u001b[39m],\u001b[39m0\u001b[39m])\u001b[39m-\u001b[39m\u001b[39m1\u001b[39m)\u001b[39m/\u001b[39m\u001b[39m/\u001b[39m\u001b[39m5\u001b[39m\n\u001b[0;32m     <a href='vscode-notebook-cell:/c%3A/Users/Usu%C3%A1rio/Downloads/UFPB/2023.2/MachineLearning/ProjetoFinal/ler_tabela.ipynb#W2sZmlsZQ%3D%3D?line=26'>27</a>\u001b[0m resposta\u001b[39m.\u001b[39mappend(tudo[:,\u001b[39m2\u001b[39m:\u001b[39m11\u001b[39m])\n\u001b[0;32m     <a href='vscode-notebook-cell:/c%3A/Users/Usu%C3%A1rio/Downloads/UFPB/2023.2/MachineLearning/ProjetoFinal/ler_tabela.ipynb#W2sZmlsZQ%3D%3D?line=28'>29</a>\u001b[0m tudo \u001b[39m=\u001b[39m []\n",
      "\u001b[1;31mIndexError\u001b[0m: too many indices for array: array is 1-dimensional, but 2 were indexed"
     ]
    }
   ],
   "source": [
    "# Para cada arquivo na pasta \"dados\" chama a função ler_tabela\n",
    "treino = []\n",
    "teste = []\n",
    "for arquivo in os.listdir(\"dados\"):\n",
    "    if arquivo.endswith(\".txt\"):\n",
    "        name = arquivo.split(\".\")[0]\n",
    "        if name.endswith(\"texte\"):\n",
    "            \n",
    "            if name.startswith(\"18\"):\n",
    "                print(f\"--> Teste Arquivo: {arquivo} 18\")\n",
    "                teste.append(ler_tabela(f\"dados/{arquivo}\",quantidade=18))\n",
    "            else:\n",
    "                print(f\"--> Teste Arquivo: {arquivo}\")\n",
    "                teste.append(ler_tabela(f\"dados/{arquivo}\"))\n",
    "            # print(f\"--> Teste Arquivo: {arquivo}\")\n",
    "        \n",
    "        else:\n",
    "            if name.startswith(\"18\"):\n",
    "                print(f\"--> Treino Arquivo: {arquivo} 18\")\n",
    "                treino.append(ler_tabela(f\"dados/{arquivo}\",quantidade=18))\n",
    "            else:\n",
    "                print(f\"--> Treino Arquivo: {arquivo}\")\n",
    "                treino.append(ler_tabela(f\"dados/{arquivo}\"))\n",
    "\n"
   ]
  },
  {
   "cell_type": "code",
   "execution_count": null,
   "metadata": {},
   "outputs": [
    {
     "name": "stdout",
     "output_type": "stream",
     "text": [
      "1\n"
     ]
    },
    {
     "ename": "TypeError",
     "evalue": "only size-1 arrays can be converted to Python scalars",
     "output_type": "error",
     "traceback": [
      "\u001b[1;31m---------------------------------------------------------------------------\u001b[0m",
      "\u001b[1;31mTypeError\u001b[0m                                 Traceback (most recent call last)",
      "\u001b[1;32mc:\\Users\\Usuário\\Downloads\\UFPB\\2023.2\\MachineLearning\\ProjetoFinal\\ler_tabela.ipynb Cell 4\u001b[0m in \u001b[0;36m<cell line: 2>\u001b[1;34m()\u001b[0m\n\u001b[0;32m      <a href='vscode-notebook-cell:/c%3A/Users/Usu%C3%A1rio/Downloads/UFPB/2023.2/MachineLearning/ProjetoFinal/ler_tabela.ipynb#W3sZmlsZQ%3D%3D?line=0'>1</a>\u001b[0m \u001b[39m# Brasileiro, Holandes e Alemao com erro de leitura\u001b[39;00m\n\u001b[1;32m----> <a href='vscode-notebook-cell:/c%3A/Users/Usu%C3%A1rio/Downloads/UFPB/2023.2/MachineLearning/ProjetoFinal/ler_tabela.ipynb#W3sZmlsZQ%3D%3D?line=1'>2</a>\u001b[0m ler_tabela(\u001b[39m\"\u001b[39;49m\u001b[39mdados/tabela_brasileiro.txt\u001b[39;49m\u001b[39m\"\u001b[39;49m,quantidade\u001b[39m=\u001b[39;49m\u001b[39m18\u001b[39;49m)\n",
      "\u001b[1;32mc:\\Users\\Usuário\\Downloads\\UFPB\\2023.2\\MachineLearning\\ProjetoFinal\\ler_tabela.ipynb Cell 4\u001b[0m in \u001b[0;36mler_tabela\u001b[1;34m(nome, quantidade)\u001b[0m\n\u001b[0;32m     <a href='vscode-notebook-cell:/c%3A/Users/Usu%C3%A1rio/Downloads/UFPB/2023.2/MachineLearning/ProjetoFinal/ler_tabela.ipynb#W3sZmlsZQ%3D%3D?line=21'>22</a>\u001b[0m ordem\u001b[39m+\u001b[39m\u001b[39m=\u001b[39m\u001b[39m1\u001b[39m\n\u001b[0;32m     <a href='vscode-notebook-cell:/c%3A/Users/Usu%C3%A1rio/Downloads/UFPB/2023.2/MachineLearning/ProjetoFinal/ler_tabela.ipynb#W3sZmlsZQ%3D%3D?line=23'>24</a>\u001b[0m \u001b[39mfor\u001b[39;00m x \u001b[39min\u001b[39;00m \u001b[39mrange\u001b[39m(quantidade):\n\u001b[1;32m---> <a href='vscode-notebook-cell:/c%3A/Users/Usu%C3%A1rio/Downloads/UFPB/2023.2/MachineLearning/ProjetoFinal/ler_tabela.ipynb#W3sZmlsZQ%3D%3D?line=24'>25</a>\u001b[0m     tudo[x,\u001b[39m2\u001b[39m] \u001b[39m=\u001b[39m (\u001b[39mint\u001b[39;49m(tudo2[tudo2[:,\u001b[39m1\u001b[39;49m]\u001b[39m==\u001b[39;49mtudo[x,\u001b[39m1\u001b[39;49m],\u001b[39m0\u001b[39;49m])\u001b[39m-\u001b[39m\u001b[39m1\u001b[39m)\u001b[39m/\u001b[39m\u001b[39m/\u001b[39m\u001b[39m5\u001b[39m\n\u001b[0;32m     <a href='vscode-notebook-cell:/c%3A/Users/Usu%C3%A1rio/Downloads/UFPB/2023.2/MachineLearning/ProjetoFinal/ler_tabela.ipynb#W3sZmlsZQ%3D%3D?line=26'>27</a>\u001b[0m resposta\u001b[39m.\u001b[39mappend(tudo[:,\u001b[39m2\u001b[39m:\u001b[39m11\u001b[39m])\n\u001b[0;32m     <a href='vscode-notebook-cell:/c%3A/Users/Usu%C3%A1rio/Downloads/UFPB/2023.2/MachineLearning/ProjetoFinal/ler_tabela.ipynb#W3sZmlsZQ%3D%3D?line=28'>29</a>\u001b[0m tudo \u001b[39m=\u001b[39m []\n",
      "\u001b[1;31mTypeError\u001b[0m: only size-1 arrays can be converted to Python scalars"
     ]
    }
   ],
   "source": [
    "# Brasileiro, Holandes e Alemao com erro de leitura\n",
    "ler_tabela(\"dados/tabela_brasileiro.txt\",quantidade=18)"
   ]
  }
 ],
 "metadata": {
  "kernelspec": {
   "display_name": "Python 3",
   "language": "python",
   "name": "python3"
  },
  "language_info": {
   "codemirror_mode": {
    "name": "ipython",
    "version": 3
   },
   "file_extension": ".py",
   "mimetype": "text/x-python",
   "name": "python",
   "nbconvert_exporter": "python",
   "pygments_lexer": "ipython3",
   "version": "3.9.7"
  },
  "vscode": {
   "interpreter": {
    "hash": "c7eff589202d1b081309a21c1fcab32e7bd6b92ee77a4b4c9e08aff7652052eb"
   }
  }
 },
 "nbformat": 4,
 "nbformat_minor": 2
}
