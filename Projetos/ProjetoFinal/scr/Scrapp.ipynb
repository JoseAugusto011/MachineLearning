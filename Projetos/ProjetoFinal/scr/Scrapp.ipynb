{
 "cells": [
  {
   "cell_type": "code",
   "execution_count": 2,
   "metadata": {},
   "outputs": [],
   "source": [
    "import requests\n",
    "from bs4 import BeautifulSoup\n",
    "import pandas as pd\n",
    "import numpy as np\n",
    "\n",
    "import re\n",
    "\n",
    "from selenium import webdriver\n",
    "from selenium.webdriver.common.keys import Keys\n",
    "from selenium.webdriver.common.by import By\n",
    "from selenium.webdriver.support.ui import WebDriverWait\n",
    "from selenium.webdriver.support import expected_conditions as EC\n",
    "from selenium.webdriver.common.action_chains import ActionChains\n",
    "import time\n",
    "\n",
    "\n",
    "from selenium.webdriver.chrome.service import Service as ChromeService\n",
    "from selenium.webdriver.chrome.options import Options\n"
   ]
  },
  {
   "cell_type": "code",
   "execution_count": 3,
   "metadata": {},
   "outputs": [],
   "source": [
    "links = pd.read_csv('link.csv')"
   ]
  },
  {
   "cell_type": "code",
   "execution_count": 4,
   "metadata": {},
   "outputs": [
    {
     "data": {
      "text/plain": [
       "0    https://www.ogol.com.br/edicao/serie-a-2003-20...\n",
       "1    https://www.ogol.com.br/edicao/la-liga-2003-20...\n",
       "2    https://www.ogol.com.br/edicao/ligue-1-2003-20...\n",
       "3    https://www.ogol.com.br/edicao/premier-league-...\n",
       "4    https://www.ogol.com.br/edicao/1-bundesliga-20...\n",
       "5    https://www.ogol.com.br/edicao/dutch-holland-e...\n",
       "6    https://www.ogol.com.br/edicao/superliga-2003-...\n",
       "7    https://www.ogol.com.br/edicao/campeonato-bras...\n",
       "Name: linkInicio, dtype: object"
      ]
     },
     "execution_count": 4,
     "metadata": {},
     "output_type": "execute_result"
    }
   ],
   "source": [
    "links['linkInicio']"
   ]
  },
  {
   "cell_type": "code",
   "execution_count": 5,
   "metadata": {},
   "outputs": [
    {
     "data": {
      "text/plain": [
       "\n",
       "<!DOCTYPE html>\n",
       "\n",
       "<html>\n",
       "<head>\n",
       "<title>Serviço Temporariamente Suspenso</title>\n",
       "<meta charset=\"utf-8\"/>\n",
       "<meta content=\"width=device-width, initial-scale=1.0\" name=\"viewport\"/>\n",
       "<meta content=\"noindex\" name=\"robots\"/>\n",
       "<style>\n",
       "\t\t\tbody{\n",
       "\t\t\t\tbackground: #354657;\n",
       "\t\t\t\tcolor: #fff;\n",
       "\t\t\t}\n",
       "\t\t\t\n",
       "\t\t\t.content{\n",
       "\t\t\t\tfont-family: sans-serif;\n",
       "\t\t\t\tmax-width: 800px;\n",
       "\t\t\t\tborder: 1px solid #ddd;\n",
       "\t\t\t\ttext-align: left;\n",
       "\t\t\t\tpadding: 24px;\n",
       "\t\t\t\tmargin: 24px auto;\n",
       "\t\t\t\tbox-shadow: 0 0 5px rgba(0,0,0,.15);\n",
       "\t\t\t\tborder-radius: 8px;\n",
       "\t\t\t\tdisplay: flex;\n",
       "\t\t\t\tflex-direction: column;\n",
       "\t\t\t\tgap: 24px;\n",
       "\t\t\t\t\n",
       "\t\t\t\th1{\n",
       "\t\t\t\t\tmargin: 0;\n",
       "\t\t\t\t\ttext-transform: uppercase;\n",
       "\t\t\t\t}\n",
       "\t\t\t\t\n",
       "\t\t\t\tp{\n",
       "\t\t\t\t\tmargin: 0 0 16px;\n",
       "\t\t\t\t\t\n",
       "\t\t\t\t\t&:last-child{\n",
       "\t\t\t\t\t\tmargin-bottom: 0;\n",
       "\t\t\t\t\t}\n",
       "\t\t\t\t}\n",
       "\t\t\t\t\n",
       "\t\t\t\t.btn{\n",
       "\t\t\t\t\tdisplay: inline-block;\n",
       "\t\t\t\t\tborder: 0;\n",
       "\t\t\t\t\tborder-radius: 4px;\n",
       "\t\t\t\t\tbackground-color: #3399cc;\n",
       "\t\t\t\t\tline-height: 24px;\n",
       "\t\t\t\t\tpadding: 8px 16px;\n",
       "\t\t\t\t\tvertical-align: bottom;\n",
       "\t\t\t\t\tcursor: pointer;\n",
       "\t\t\t\t\ttransition: all ease-in-out 300ms;\n",
       "\t\t\t\t\tfont-size: 18px;\n",
       "\t\t\t\t\tfont-weight: bold;\n",
       "\t\t\t\t\ttext-align: center;\n",
       "\t\t\t\t\ttext-transform: uppercase;\n",
       "\t\t\t\t\tcolor: #fff;\n",
       "\t\t\t\t\tfont-family: Roboto, Helvetica, Arial, sans-serif;\n",
       "\t\t\t\t\tmin-width: 120px;\n",
       "\t\t\t\t\ttext-decoration: none;\n",
       "\t\t\t\t}\n",
       "\t\t\t\t\n",
       "\t\t\t\timg{\n",
       "\t\t\t\t\tmax-width: 100%;\n",
       "\t\t\t\t\tmax-height: 64px;\n",
       "\t\t\t\t}\n",
       "\t\t\t\t\n",
       "\t\t\t\ta{\n",
       "\t\t\t\t\tcolor: inherit;\n",
       "\t\t\t\t}\n",
       "\t\t\t}\n",
       "\t\t</style>\n",
       "</head>\n",
       "<body>\n",
       "<div class=\"content\">\n",
       "<div>\n",
       "<img alt=\"\" height=\"64\" src=\"/files/settings/ogol_logo-principal_horizontal_v1.svg\"/>\n",
       "</div>\n",
       "<h1>Serviço Temporariamente Suspenso</h1>\n",
       "<div>\n",
       "<p>\n",
       " </p>\n",
       "<p>\n",
       "Prezado(a) Visitante,</p>\n",
       "<p>\n",
       "Lamentamos informar que nossos serviços estão temporariamente suspensos devido a manutenção e melhorias essenciais. Estamos trabalhando arduamente para garantir a melhor experiência possível e pedimos desculpas por qualquer inconveniente causado.</p>\n",
       "<p>\n",
       "Durante este período, não será possível acessar as funcionalidades do nosso site. Estamos empenhados em restabelecer o serviço o mais rapidamente possível. Agradecemos a sua paciência e compreensão.</p>\n",
       "<p>\n",
       "Enquanto isso, se precisar entrar em contato conosco ou tiver alguma questão urgente, por favor, envie um e-mail para <a href=\"/cdn-cgi/l/email-protection#106775727d7163647562506a75627f6a75627f3e6064\"><span class=\"__cf_email__\" data-cfemail=\"1d6a787f707c6e69786f5d67786f7267786f72336d69\">[email protected]</span></a>.</p>\n",
       "<p>\n",
       "Agradecemos a sua compreensão e estamos ansiosos para retomar o serviço normal em breve.</p>\n",
       "<p>\n",
       "Atenciosamente</p>\n",
       "<p>\n",
       "<a class=\"btn\" href=\"/\">Tente novamente</a></p>\n",
       "</div>\n",
       "</div>\n",
       "<script data-cfasync=\"false\" src=\"/cdn-cgi/scripts/5c5dd728/cloudflare-static/email-decode.min.js\"></script></body>\n",
       "</html>"
      ]
     },
     "execution_count": 5,
     "metadata": {},
     "output_type": "execute_result"
    }
   ],
   "source": [
    "r = requests.get('https://www.ogol.com.br/edicao/la-liga-2003-2004/7?simp=0')\n",
    "s = BeautifulSoup(r.text, 'html.parser')\n",
    "s\n"
   ]
  },
  {
   "cell_type": "code",
   "execution_count": 6,
   "metadata": {},
   "outputs": [
    {
     "ename": "NameError",
     "evalue": "name 'soup2' is not defined",
     "output_type": "error",
     "traceback": [
      "\u001b[1;31m---------------------------------------------------------------------------\u001b[0m",
      "\u001b[1;31mNameError\u001b[0m                                 Traceback (most recent call last)",
      "\u001b[1;32mc:\\Users\\Usuário\\Downloads\\UFPB\\2023.2\\MachineLearning\\ProjetoFinal\\Scrapp.ipynb Cell 5\u001b[0m in \u001b[0;36m<cell line: 1>\u001b[1;34m()\u001b[0m\n\u001b[1;32m----> <a href='vscode-notebook-cell:/c%3A/Users/Usu%C3%A1rio/Downloads/UFPB/2023.2/MachineLearning/ProjetoFinal/Scrapp.ipynb#W4sZmlsZQ%3D%3D?line=0'>1</a>\u001b[0m soup2\n",
      "\u001b[1;31mNameError\u001b[0m: name 'soup2' is not defined"
     ]
    }
   ],
   "source": [
    "soup2"
   ]
  }
 ],
 "metadata": {
  "kernelspec": {
   "display_name": "Python 3",
   "language": "python",
   "name": "python3"
  },
  "language_info": {
   "codemirror_mode": {
    "name": "ipython",
    "version": 3
   },
   "file_extension": ".py",
   "mimetype": "text/x-python",
   "name": "python",
   "nbconvert_exporter": "python",
   "pygments_lexer": "ipython3",
   "version": "3.9.7"
  },
  "orig_nbformat": 4,
  "vscode": {
   "interpreter": {
    "hash": "c7eff589202d1b081309a21c1fcab32e7bd6b92ee77a4b4c9e08aff7652052eb"
   }
  }
 },
 "nbformat": 4,
 "nbformat_minor": 2
}
