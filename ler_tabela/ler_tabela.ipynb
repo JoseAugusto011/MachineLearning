{
 "cells": [
  {
   "cell_type": "code",
   "execution_count": 82,
   "metadata": {},
   "outputs": [],
   "source": [
    "import pandas as pd\n",
    "import numpy as np\n",
    "import os"
   ]
  },
  {
   "cell_type": "code",
   "execution_count": 76,
   "metadata": {},
   "outputs": [],
   "source": [
    "def ler_tabela(nome,quantidade=20):\n",
    "    print(\"Lendo tabela: \",nome)\n",
    "    with open(nome, \"r\") as tabela:\n",
    "        \n",
    "        tudo=[]\n",
    "        tudo2 =[]\n",
    "        num = 1\n",
    "        ordem = 1\n",
    "        resposta=[]\n",
    "        i_linhas = 0\n",
    "\n",
    "        for linha in tabela.readlines():\n",
    "            li = linha.split(\"\\t\")\n",
    "            if num <= quantidade:\n",
    "                tudo.append(li)\n",
    "            else:\n",
    "                tudo2.append(li)\n",
    "            \n",
    "            if num == quantidade*2:\n",
    "                \n",
    "                tudo = np.array(tudo,dtype=object)\n",
    "                tudo2 = np.array(tudo2,dtype=object)\n",
    "                \n",
    "\n",
    "                # print(ordem)\n",
    "                ordem+=1\n",
    "\n",
    "                for x in range(quantidade):\n",
    "                    \n",
    "                    \n",
    "                    # #mostrar nome do time \n",
    "                    # print(tudo[x,1],i_linhas)\n",
    "                    \n",
    "                    \n",
    "                    tudo[x,2] = (int(tudo2[tudo2[:,1]==tudo[x,1],0])-1)//5\n",
    "                    \n",
    "                    i_linhas+=1\n",
    "\n",
    "                resposta.append(tudo[:,2:11])\n",
    "\n",
    "                tudo = []\n",
    "                tudo2= []\n",
    "                num = 0\n",
    "\n",
    "                \n",
    "            \n",
    "            num+=1\n",
    "        \n",
    "        return(resposta)\n",
    "\n",
    " "
   ]
  },
  {
   "cell_type": "code",
   "execution_count": 77,
   "metadata": {},
   "outputs": [],
   "source": [
    "# for arquivo in os.listdir():\n",
    "#     if arquivo.endswith(\".txt\"):\n",
    "#         name = arquivo.split(\".\")[0]\n",
    "#         if name.endswith(\"texte\"):\n",
    "            \n",
    "#             if name.startswith(\"18\"):\n",
    "#                 print(f\"--> Teste Arquivo: {arquivo} 18\")\n",
    "#                 teste.append(ler_tabela(f\"{arquivo}\",quantidade=18))\n",
    "#             else:\n",
    "#                 print(f\"--> Teste Arquivo: {arquivo}\")\n",
    "#                 teste.append(ler_tabela(f\"{arquivo}\"))\n",
    "#             # print(f\"--> Teste Arquivo: {arquivo}\")\n",
    "        \n",
    "#         else:\n",
    "#             if name.startswith(\"18\"):\n",
    "#                 print(f\"--> Treino Arquivo: {arquivo} 18\")\n",
    "#                 treino.append(ler_tabela(f\"{arquivo}\",quantidade=18))\n",
    "#             else:\n",
    "#                 print(f\"--> Treino Arquivo: {arquivo}\")\n",
    "#                 treino.append(ler_tabela(f\"{arquivo}\"))\n",
    "\n",
    "# for arquivo in os.listdir():\n",
    "#     if arquivo.endswith(\".txt\"):\n",
    "#         name = arquivo.split(\".\")[0]\n",
    "#         print(name)"
   ]
  },
  {
   "cell_type": "code",
   "execution_count": 78,
   "metadata": {},
   "outputs": [
    {
     "name": "stdout",
     "output_type": "stream",
     "text": [
      "Lendo tabela:  tabela_brasileiro.txt\n",
      "Lendo tabela:  tabela_bundesliga_18.txt\n",
      "Lendo tabela:  tabela_frances.txt\n",
      "Lendo tabela:  tabela_holandes_18.txt\n",
      "Lendo tabela:  tabela_italiano.txt\n",
      "Lendo tabela:  tabela_la_liga.txt\n",
      "Lendo tabela:  tabela_premier.txt\n",
      "\n",
      "\n",
      "Lendo tabela:  tabela_brasileiro_texte.txt\n",
      "Lendo tabela:  tabela_bundesliga_18_texte.txt\n",
      "Lendo tabela:  tabela_frances_texte.txt\n",
      "Lendo tabela:  tabela_holandes_18_texte.txt\n",
      "Lendo tabela:  tabela_italiano_texte.txt\n",
      "Lendo tabela:  tabela_la_liga_texte.txt\n",
      "Lendo tabela:  tabela_premier_texte.txt\n"
     ]
    }
   ],
   "source": [
    "# Para cada arquivo na pasta \"dados\" chama a função ler_tabela\n",
    "treino = []\n",
    "teste = []\n",
    "\n",
    "\n",
    "treino = [ler_tabela(\"tabela_brasileiro.txt\"),ler_tabela('tabela_bundesliga_18.txt',quantidade=18),ler_tabela(\"tabela_frances.txt\"),ler_tabela('tabela_holandes_18.txt',quantidade=18),ler_tabela(\"tabela_italiano.txt\"),ler_tabela(\"tabela_la_liga.txt\"),ler_tabela(\"tabela_premier.txt\")]\n",
    "print(\"\\n\")\n",
    "teste = [ler_tabela('tabela_brasileiro_texte.txt',quantidade=20),ler_tabela('tabela_bundesliga_18_texte.txt',quantidade=18),ler_tabela('tabela_frances_texte.txt'),ler_tabela('tabela_holandes_18_texte.txt',quantidade=18),ler_tabela('tabela_italiano_texte.txt'),ler_tabela('tabela_la_liga_texte.txt'),ler_tabela('tabela_premier_texte.txt')]\n",
    "\n",
    "treino = np.array(treino,dtype=object)\n",
    "teste = np.array(teste,dtype=object)"
   ]
  },
  {
   "cell_type": "code",
   "execution_count": 79,
   "metadata": {},
   "outputs": [],
   "source": [
    "train = []\n",
    "for x in range(len(treino)):\n",
    "    for y in range(len(treino[x])):\n",
    "        train.extend(treino[x][y])\n",
    "        \n",
    "test = []\n",
    "for x in range(len(teste)):\n",
    "    for y in range(len(teste[x])):\n",
    "        test.extend(teste[x][y])\n",
    "        "
   ]
  },
  {
   "cell_type": "code",
   "execution_count": 80,
   "metadata": {},
   "outputs": [],
   "source": [
    "train = np.array(train,dtype=int)\n",
    "test = np.array(test,dtype=int)"
   ]
  },
  {
   "cell_type": "code",
   "execution_count": 85,
   "metadata": {},
   "outputs": [],
   "source": [
    "treino = pd.DataFrame(train)\n",
    "teste = pd.DataFrame(test)\n",
    "\n",
    "#salvar em csv\n",
    "treino.to_csv(\"treino.csv\",index=False)\n",
    "teste.to_csv(\"teste.csv\",index=False)"
   ]
  }
 ],
 "metadata": {
  "kernelspec": {
   "display_name": "Python 3",
   "language": "python",
   "name": "python3"
  },
  "language_info": {
   "codemirror_mode": {
    "name": "ipython",
    "version": 3
   },
   "file_extension": ".py",
   "mimetype": "text/x-python",
   "name": "python",
   "nbconvert_exporter": "python",
   "pygments_lexer": "ipython3",
   "version": "3.9.7"
  },
  "vscode": {
   "interpreter": {
    "hash": "c7eff589202d1b081309a21c1fcab32e7bd6b92ee77a4b4c9e08aff7652052eb"
   }
  }
 },
 "nbformat": 4,
 "nbformat_minor": 2
}
