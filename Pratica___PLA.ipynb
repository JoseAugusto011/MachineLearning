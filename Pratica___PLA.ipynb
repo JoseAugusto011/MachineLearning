{
  "cells": [
    {
      "cell_type": "markdown",
      "metadata": {
        "id": "hxCePgpn5YJR"
      },
      "source": [
        "# <font color=\"darkblue\"> Prática 01: Perceptron Learning Algorithm (PLA) </font>\n",
        "\n",
        "\n"
      ]
    },
    {
      "cell_type": "markdown",
      "metadata": {
        "id": "YOOM3TfP5YG2"
      },
      "source": [
        "**Objetivos:**\n",
        "\n",
        "\n",
        "*   Entender o funcionamento do PLA e dos componentes de aprendizagem.\n",
        "*   Fixar o conceito de aprendizagem.\n",
        "\n"
      ]
    },
    {
      "cell_type": "markdown",
      "metadata": {
        "id": "B7-fH5fiGjvn"
      },
      "source": [
        "**Descrição:**\n",
        "\n",
        "Crie uma dataset $D$ com 1000 pontos e uma função alvo $f$ para compreender o funcionamento do PLA. Para visualizar os passos do algoritmo, considere $d=2$ e assuma $X=[-1,1]\\times[-1,1]$, em que $x\\in X$ é escolhido com probabilidade uniforme. Escolha uma reta como função alvo, em que um lado da reta seja mapeado para $+1$ e o outro para $-1$. Gere então pontos aleatórios $x_i$ e obtenha sua classificação $y_i$ a partir da função alvo. Divida os dados em um grupo de treinamento e outro de teste.\n",
        "\n",
        "Após a preparação dos dados, crie uma função $PLA()$ que inicia com os pesos todos iguais a zero e, a cada iteração, deixe o algoritmo escolher aleatoriamente um dos pontos com classificação incorreta até que ele convirja. Rode o PLA sobre amostras com $N=10$ e $N=100$, teste a hipótese solução a partir de pontos diferentes (conjunto de teste) daqueles das amostras e responda a seguinte questão:\n",
        "\n",
        "- Qual o percentual de pontos classificados corretamente para cada hipótese solução?\n",
        "\n",
        "\n",
        "\n",
        "\n",
        "\n",
        "\n",
        "\n",
        "\n"
      ]
    },
    {
      "cell_type": "markdown",
      "metadata": {
        "id": "Q6vEKdCpW7uu"
      },
      "source": [
        "# <font color=\"darkblue\"> Solução </font>\n"
      ]
    },
    {
      "cell_type": "markdown",
      "metadata": {
        "id": "xjQaS5NhV2gG"
      },
      "source": [
        "###  Preparação dos dos dados\n",
        "\n",
        "O objetivo da prepação dos dados é a criação da função alvo e do dataset conforme a descrição do problema. Para tanto, você deve realizar os seguintes passos:\n",
        "\n",
        "* Crie a função alvo (uma reta) a partir de dois pontos gerados aleatoriamente;\n",
        "* Calcule o coeficiente angular e o coeficiente linear (bias) e os armazene em variáveis distintas;\n",
        "* Gere aleatoriamente 1000 pontos, cujas coordenadas estão no intervalo $[-1,1]$, e os adicione em uma lista $X$ correspondendo aos dados da amostra;\n",
        "* Para cada ponto gerado, use a função sign() de numpy, que recebe como entrada uma reta (função alvo), para obter a classificação de cada ponto. Adicione cada classificação em uma lista $y$.\n"
      ]
    },
    {
      "cell_type": "code",
      "execution_count": 110,
      "metadata": {
        "id": "k2OXIQVwV6JK"
      },
      "outputs": [],
      "source": [
        "import numpy as np\n",
        "import matplotlib.pyplot as plt\n",
        "import random\n",
        "from IPython.display import clear_output \n",
        "\n",
        "\n",
        "\n",
        "\n"
      ]
    },
    {
      "cell_type": "code",
      "execution_count": 111,
      "metadata": {
        "id": "0nQjdOM2X1-H"
      },
      "outputs": [],
      "source": [
        "def cria_pontos(quant):\n",
        "  lista =[]\n",
        "  for _ in range(quant):\n",
        "\n",
        "    x = random.randint(0,200)\n",
        "    x = (-100 + x)/100\n",
        "    y = random.randint(0,200)\n",
        "    y = (-100 + y)/100\n",
        "    d = [x,y]\n",
        "    lista.append(d)\n",
        "  return lista\n"
      ]
    },
    {
      "cell_type": "code",
      "execution_count": 112,
      "metadata": {
        "id": "4-_zBcTca6LQ"
      },
      "outputs": [],
      "source": [
        "def criar_reta():\n",
        "  \n",
        "  ponto1,ponto2 = cria_pontos(2)\n",
        "  \n",
        "  #m = y2 - y1 / x2 - x1\n",
        "  \n",
        "  if ponto1[0]>ponto2[0]:\n",
        "    \n",
        "    m = (ponto1[1]-ponto2[1]) / (ponto1[0]-ponto2[0])\n",
        "  else:\n",
        "    m = (ponto2[1]-ponto1[1]) / (ponto2[0]-ponto1[0])\n",
        "    \n",
        "  n = ponto1[0] * m - ponto1[1]\n",
        "  n*=-1\n",
        "  pontos = (ponto1,ponto2)\n",
        "  \n",
        "  return pontos,m,n\n",
        "\n"
      ]
    },
    {
      "cell_type": "code",
      "execution_count": 113,
      "metadata": {
        "id": "Sdx34FIThJ-y"
      },
      "outputs": [],
      "source": [
        "def criar_o_vetor_y_que_nao_e_o_y_do_ponto(X,m,b):\n",
        "  lista_y = []\n",
        "  for ponto in X:\n",
        "    lista_y.append(np.sign(ponto[1]-m*ponto[0]-b))\n",
        "  return(lista_y)"
      ]
    },
    {
      "cell_type": "markdown",
      "metadata": {
        "id": "8ZkoSyK2CkF1"
      },
      "source": [
        "### Visualizando o dataset\n",
        "Use a função abaixo para visualizar o dataset criado anteriormente."
      ]
    },
    {
      "cell_type": "code",
      "execution_count": 114,
      "metadata": {
        "id": "7UR_dK1_VXPX"
      },
      "outputs": [],
      "source": [
        "def show_dataset(X, y, p1, p2, m, b):\n",
        "    \"\"\"\n",
        "    Esta função tem o objetivo de exibir na tela uma amostra do dataset passado por parâmetro.\n",
        "\n",
        "    Paramêtros:\n",
        "    - X (matriz): Matriz 1000x2 correspondendo aos dados amostra. Cada elemento de X é uma lista que corresponde\n",
        "    às coordenadas dos pontos gerados.\n",
        "    - y (list): resultasdo da classificação\n",
        "    - p1 (list): Coordenadas do ponto p1 gerado para criar a função alvo.\n",
        "    - p2 (list): Coordenadas do ponto p2 gerado para criar a função alvo.\n",
        "    - m (float): Coeficiente angular da função alvo.\n",
        "    - b (float): Coeficidnte linear da função alvo.\n",
        "    \"\"\"\n",
        "\n",
        "    line = np.linspace(-1, 1, 1000)\n",
        "    plt.plot(line, m*line + b, label=\"f(x)\", c=\"green\")\n",
        "\n",
        "    print(p1)\n",
        "\n",
        "    # Pontos usados na criacao da reta\n",
        "    plt.scatter(p1[0], p1[1], c='green')\n",
        "    plt.scatter(p2[0], p2[1], c='green')\n",
        "\n",
        "    for i in range(len(X[:200])):\n",
        "        if (y[i] == 1):\n",
        "            plt.scatter(X[i][0], X[i][1], c='blue')\n",
        "        else:\n",
        "            plt.scatter(X[i][0], X[i][1], c='red')\n",
        "\n",
        "    plt.show()"
      ]
    },
    {
      "cell_type": "markdown",
      "metadata": {
        "id": "xyP4KkN8WWgn"
      },
      "source": [
        "### Algoritmo PLA\n",
        "Complete a função PLA() abaixo para implementar o Algoritmo de Aprendizagem do Perceptron conforme os slides da aula de \"Significado de aprendizagem\"."
      ]
    },
    {
      "attachments": {},
      "cell_type": "markdown",
      "metadata": {},
      "source": [
        "![Logo](PLA.jpg)"
      ]
    },
    {
      "cell_type": "markdown",
      "metadata": {
        "id": "008h3gu8Ybzb"
      },
      "source": [
        "### Função para visualização dos passos do PLA\n",
        "A função abaixo é uma função auxiliar que permite que vocês enxerguem o resultado de cada iteração da função PLA()."
      ]
    },
    {
      "cell_type": "code",
      "execution_count": 115,
      "metadata": {
        "id": "iRl4_hzlYjMG"
      },
      "outputs": [],
      "source": [
        "%matplotlib inline\n",
        "def plot_grafico(X, y, w, f):\n",
        "    \"\"\"\n",
        "    Esta função objetiva a visualização dos passos do PLA.\n",
        "\n",
        "    Paramêtros:\n",
        "    - X (list[]): Matriz 1000x2 correspondendo aos dados amostra. Cada elemento de X é uma lista que corresponde\n",
        "    às coordenadas dos pontos gerados.\n",
        "    - y (list): Classificação dos pontos da amostra X.\n",
        "    - w (list): Lista correspondendo aos pesos do perceptron.\n",
        "    - f (list): Lista de dois elementos correspondendo, respectivamente, aos coeficientes angular e linear\n",
        "    da função alvo.\n",
        "    \"\"\"\n",
        "\n",
        "    nPontos = len(X)\n",
        "    #matplotlib.use('TkAgg')\n",
        "\n",
        "    ax = plt.gca()\n",
        "    ax.spines['top'].set_color('none')\n",
        "    ax.spines['bottom'].set_position('zero')\n",
        "    ax.spines['left'].set_position('zero')\n",
        "    ax.spines['right'].set_color('none')\n",
        "\n",
        "    plt.axis([-1, 1, -1, 1])\n",
        "\n",
        "    x_plt = [X[i][0] for i in range(nPontos)]\n",
        "    y_plt = [X[i][1] for i in range(nPontos)]\n",
        "\n",
        "    for i in range(nPontos):\n",
        "        if (y[i] == 1):\n",
        "            plt.scatter(x_plt[i], y_plt[i], s=10, c='blue')\n",
        "        else:\n",
        "            plt.scatter(x_plt[i], y_plt[i], s=10, c='red')\n",
        "\n",
        "    x = np.linspace(-1, 1, 1000)\n",
        "    plt.plot(x, f[0]*x + f[1], c='green') # f[0] = m, f[1] = b\n",
        "    plt.plot(x, (-w[0] - w[1]*x) / w[2], c='orange') # A*x + B*y + C => y = (-C - A*x) / B\n",
        "    clear_output(wait=True)\n",
        "    plt.show(block=False)\n",
        "    plt.pause(0.01)\n"
      ]
    },
    {
      "cell_type": "markdown",
      "metadata": {
        "id": "azzzLIzWZdDu"
      },
      "source": [
        "### Função para construir lista de pontos classificados incorretamente\n",
        "Implemente a função abaixo para contruir a lista de pontos classificados incorretamente em cada iteração do loop principal da função PLA().\n"
      ]
    },
    {
      "cell_type": "code",
      "execution_count": 116,
      "metadata": {
        "id": "H6cIgZ_8ZjAp"
      },
      "outputs": [],
      "source": [
        "def constroiListaPCI(X, y, w):\n",
        "    \"\"\"\n",
        "    Esta função constrói a lista de pontos classificados incorretamente.\n",
        "\n",
        "    Paramêtros:\n",
        "    - X (list[]): Matriz 1000x2 correspondendo aos dados amostra. Cada elemento de X é uma lista que corresponde\n",
        "    às coordenadas dos pontos gerados.\n",
        "    - y (list): Classificação dos pontos da amostra X.\n",
        "    - w (list): Lista correspondendo aos pesos do perceptron.\n",
        "\n",
        "    Retorno:\n",
        "    - l (list): Lista com os pontos classificador incorretamente.\n",
        "    - new_y (list): Nova classificação de tais pontos.\n",
        "\n",
        "    \"\"\"\n",
        "    \n",
        "    l = []\n",
        "    new_y = []\n",
        "    \n",
        "    \n",
        "    \n",
        "    #print(X[0],w,y[0])\n",
        "    for i in range(len(X)):\n",
        "        if  np.sign( w[0] + w[1]*X[i][0] + w[2]*X[i][1]) != y[i]:\n",
        "            #print(np.sign( w[0] + w[1]*X[i][0] + w[2]*X[i][1]),y[i])\n",
        "            l.append(X[i])\n",
        "            new_y.append(y[i])\n",
        "\n",
        "    \n",
        "    print(f\"Tamanho de L: {len(l)}\")\n",
        "\n",
        "    return l, new_y"
      ]
    },
    {
      "cell_type": "code",
      "execution_count": 117,
      "metadata": {},
      "outputs": [],
      "source": [
        "def PLA(X, y, f):\n",
        "    \"\"\"\n",
        "    Esta função corresponde ao Algoritmo de Aprendizagem do modelo Perceptron.\n",
        "\n",
        "    Paramêtros:\n",
        "    - X (list[]): Matriz 1000x2 correspondendo aos dados amostra. Cada elemento de X é uma lista que corresponde\n",
        "    às coordenadas dos pontos gerados.\n",
        "    - y (list): Classificação dos pontos da amostra X.\n",
        "    - f (list): Lista de dois elementos correspondendo, respectivamente, aos coeficientes angular e linear\n",
        "    da função alvo.\n",
        "\n",
        "    Retorno:\n",
        "    - it (int): Quantidade de iterações necessárias para corrigir todos os pontos classificados incorretamente.\n",
        "    - w (list): Lista de três elementos correspondendo aos pesos do perceptron.\n",
        "    \"\"\"\n",
        "    listaPCIX = X.copy()\n",
        "    listaPCIY = y.copy()    \n",
        "    w = [0,0,0]\n",
        "    it = 0\n",
        "    \n",
        "    \n",
        "    \n",
        "    #listaPCIX = np.float64(listaPCIX)\n",
        "    #listaPCIY = np.float64(listaPCIY)\n",
        "    #w = np.float64(w)\n",
        "    \n",
        "    \n",
        "    while (len(listaPCIX) > 0):\n",
        "        \n",
        "        i = random.randint(0,len(listaPCIX)-1)\n",
        "        \n",
        "        w[0] = w[0] + listaPCIY[i]\n",
        "        w[1] = w[1] + listaPCIY[i]*listaPCIX[i][0]\n",
        "        w[2] = w[2] + listaPCIY[i]*listaPCIX[i][1]\n",
        "        \n",
        "        listaPCIX, listaPCIY = constroiListaPCI(X, y, w)\n",
        "        print(len(listaPCIX))\n",
        "\n",
        "        # Após atualizar os pesos para correção do ponto escolhido, você irá chamar a função plotGrafico()\n",
        "        plot_grafico(X, y, w, f)\n",
        "        it += 1\n",
        "\n",
        "    return it, w"
      ]
    },
    {
      "cell_type": "code",
      "execution_count": 118,
      "metadata": {},
      "outputs": [],
      "source": [
        "def ConferePonto(x, pesos):\n",
        "    \"\"\"Prever a classe de um ponto usando os pesos do Perceptron.\"\"\"\n",
        "    return np.sign(x[0] * pesos[0] + x[1] * pesos[1] + pesos[2])"
      ]
    },
    {
      "cell_type": "code",
      "execution_count": 119,
      "metadata": {},
      "outputs": [],
      "source": [
        "def CriarDados(n):\n",
        "    #n = tamanho da amostra\n",
        "    X = cria_pontos(n)\n",
        "    vetor, m, b = criar_reta()\n",
        "    p1 = vetor[0]\n",
        "    p2 = vetor[1]\n",
        "    Y = criar_o_vetor_y_que_nao_e_o_y_do_ponto(X, m, b)\n",
        "    show_dataset(X, Y, p1, p2, m, b)\n",
        "    return X, Y, [m, b]\n",
        "    "
      ]
    },
    {
      "cell_type": "code",
      "execution_count": 120,
      "metadata": {},
      "outputs": [
        {
          "data": {
            "image/png": "[encoded data removed]",
            "text/plain": [
              "<Figure size 432x288 with 1 Axes>"
            ]
          },
          "metadata": {
            "needs_background": "light"
          },
          "output_type": "display_data"
        },
        {
          "name": "stdout",
          "output_type": "stream",
          "text": [
            "Qtd de Iterações:  19\n",
            "Pesos:  [-1.0, 3.049999999999999, 1.5499999999999998]\n"
          ]
        }
      ],
      "source": [
        "r = CriarDados(24)\n",
        "print(r[2])\n",
        "qtdIter, Pesos = PLA(r[0], r[1], r[2])\n",
        "\n",
        "print(\"Qtd de Iterações: \", qtdIter)\n",
        "print(\"Pesos: \", Pesos)"
      ]
    },
    {
      "cell_type": "code",
      "execution_count": 121,
      "metadata": {},
      "outputs": [
        {
          "name": "stdout",
          "output_type": "stream",
          "text": [
            "Erros:  12\n"
          ]
        }
      ],
      "source": [
        "erros = 0\n",
        "for i in range(len(r[0])):\n",
        "    if ConferePonto(r[0][i], Pesos) != r[1][i]:\n",
        "        erros += 1\n",
        "print(\"Erros: \", erros) "
      ]
    },
    {
      "cell_type": "markdown",
      "metadata": {
        "id": "CArSxezbZs5G"
      },
      "source": [
        "### Calculando a acurácia\n",
        "\n",
        "Treine o Modelo de Aprendizagem de Máquina Perceptron com subamostras de tamanhos $N=10$ e $N = 100$, conforme o enunciado, e em seguida verifique acurácia do modelo com uma subamostra de teste que contém pontos diferentes das subamostras utilizadas para treinamento."
      ]
    },
    {
      "cell_type": "code",
      "execution_count": 122,
      "metadata": {},
      "outputs": [],
      "source": [
        "#X_test, y_test, f = CriarDados(100)\n",
        "X_test = cria_pontos(100)"
      ]
    },
    {
      "cell_type": "code",
      "execution_count": 123,
      "metadata": {},
      "outputs": [
        {
          "name": "stdout",
          "output_type": "stream",
          "text": [
            "([0.57, -0.83], [-0.71, -0.31])\n",
            "[0.57, -0.83]\n",
            "[-0.71, -0.31]\n",
            "[0.57, -0.83]\n"
          ]
        },
        {
          "data": {
            "image/png": "[encoded data removed]",
            "text/plain": [
              "<Figure size 432x288 with 1 Axes>"
            ]
          },
          "metadata": {
            "needs_background": "light"
          },
          "output_type": "display_data"
        }
      ],
      "source": [
        "vetor, m, b = criar_reta()\n",
        "p1 = vetor[0]\n",
        "p2 = vetor[1]\n",
        "Y = criar_o_vetor_y_que_nao_e_o_y_do_ponto(X_test, m, b)\n",
        "print(vetor)\n",
        "print(p1)\n",
        "print(p2)\n",
        "show_dataset(X_test, Y, p1, p2, m, b)"
      ]
    },
    {
      "cell_type": "code",
      "execution_count": 124,
      "metadata": {},
      "outputs": [
        {
          "data": {
            "image/png": "[encoded data removed]",
            "text/plain": [
              "<Figure size 432x288 with 1 Axes>"
            ]
          },
          "metadata": {
            "needs_background": "light"
          },
          "output_type": "display_data"
        }
      ],
      "source": [
        "rtreino = X_test[0:20]\n",
        "itTreino, PesosTreino = PLA(rtreino, Y[0:20], [m, b])\n",
        "\n"
      ]
    },
    {
      "cell_type": "code",
      "execution_count": 125,
      "metadata": {},
      "outputs": [
        {
          "data": {
            "image/png": "[encoded data removed]",
            "text/plain": [
              "<Figure size 432x288 with 1 Axes>"
            ]
          },
          "metadata": {
            "needs_background": "light"
          },
          "output_type": "display_data"
        }
      ],
      "source": [
        "plot_grafico(X_test, Y, PesosTreino, [m, b])"
      ]
    },
    {
      "cell_type": "code",
      "execution_count": null,
      "metadata": {},
      "outputs": [],
      "source": []
    }
  ],
  "metadata": {
    "colab": {
      "provenance": []
    },
    "kernelspec": {
      "display_name": "Python 3",
      "language": "python",
      "name": "python3"
    },
    "language_info": {
      "codemirror_mode": {
        "name": "ipython",
        "version": 3
      },
      "file_extension": ".py",
      "mimetype": "text/x-python",
      "name": "python",
      "nbconvert_exporter": "python",
      "pygments_lexer": "ipython3",
      "version": "3.9.7"
    },
    "vscode": {
      "interpreter": {
        "hash": "c7eff589202d1b081309a21c1fcab32e7bd6b92ee77a4b4c9e08aff7652052eb"
      }
    }
  },
  "nbformat": 4,
  "nbformat_minor": 0
}
